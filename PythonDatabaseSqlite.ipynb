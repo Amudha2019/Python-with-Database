{
  "nbformat": 4,
  "nbformat_minor": 0,
  "metadata": {
    "colab": {
      "name": "Copy of Copy of Untitled1.ipynb",
      "provenance": [],
      "collapsed_sections": []
    },
    "kernelspec": {
      "name": "python3",
      "display_name": "Python 3"
    }
  },
  "cells": [
    {
      "cell_type": "code",
      "metadata": {
        "id": "nyXzDXDrWX2C",
        "colab_type": "code",
        "outputId": "80445329-86c6-4832-fb12-6c3bdb356c74",
        "colab": {
          "base_uri": "https://localhost:8080/",
          "height": 34
        }
      },
      "source": [
        "#!/usr/bin/python\n",
        "#Database Creation\n",
        "\n",
        "import sqlite3\n",
        "\n",
        "conn = sqlite3.connect('test.db')\n",
        "\n",
        "print(\"Opened database successfully\");"
      ],
      "execution_count": 0,
      "outputs": [
        {
          "output_type": "stream",
          "text": [
            "Opened database successfully\n"
          ],
          "name": "stdout"
        }
      ]
    },
    {
      "cell_type": "code",
      "metadata": {
        "id": "p59X2HQ1W1vJ",
        "colab_type": "code",
        "outputId": "90ef48b7-052c-450a-8a0f-59fc2cf73ffb",
        "colab": {
          "base_uri": "https://localhost:8080/",
          "height": 51
        }
      },
      "source": [
        "#Table Creation\n",
        "#!/usr/bin/python\n",
        "\n",
        "import sqlite3\n",
        "\n",
        "conn = sqlite3.connect('test.db')\n",
        "print(\"Opened database successfully\");\n",
        "\n",
        "conn.execute('''CREATE TABLE COMPANY1\n",
        "         (ID INT PRIMARY KEY     NOT NULL,\n",
        "         NAME           TEXT    NOT NULL,\n",
        "         ADDRESS        CHAR(50),\n",
        "         SALARY         REAL);''')\n",
        "print(\"Table created successfully\");\n",
        "\n",
        "conn.close()"
      ],
      "execution_count": 0,
      "outputs": [
        {
          "output_type": "stream",
          "text": [
            "Opened database successfully\n",
            "Table created successfully\n"
          ],
          "name": "stdout"
        }
      ]
    },
    {
      "cell_type": "code",
      "metadata": {
        "id": "bsli7wrHXVRq",
        "colab_type": "code",
        "outputId": "08d6f652-ad79-4416-a6c2-c3eefdd5ecd9",
        "colab": {
          "base_uri": "https://localhost:8080/",
          "height": 51
        }
      },
      "source": [
        "#INSERT Operation\n",
        "#!/usr/bin/python\n",
        "\n",
        "import sqlite3\n",
        "\n",
        "conn = sqlite3.connect('test.db')\n",
        "print(\"Opened database successfully\");\n",
        "\n",
        "conn.execute(\"INSERT INTO COMPANY1 (ID,NAME,ADDRESS,SALARY) \\\n",
        "      VALUES (1, 'Paul', 'California', 20000.00 )\");\n",
        "\n",
        "conn.execute(\"INSERT INTO COMPANY1 (ID,NAME,ADDRESS,SALARY) \\\n",
        "      VALUES (2, 'Allen','Texas', 15000.00 )\");\n",
        "\n",
        "conn.execute(\"INSERT INTO COMPANY1 (ID,NAME,ADDRESS,SALARY) \\\n",
        "      VALUES (3, 'Teddy','Norway', 20000.00 )\");\n",
        "\n",
        "conn.execute(\"INSERT INTO COMPANY1 (ID,NAME,ADDRESS,SALARY) \\\n",
        "      VALUES (4, 'Mark','Rich-Mond ', 65000.00 )\");\n",
        "\n",
        "conn.commit()\n",
        "print(\"Records created successfully\");\n",
        "conn.close()"
      ],
      "execution_count": 0,
      "outputs": [
        {
          "output_type": "stream",
          "text": [
            "Opened database successfully\n",
            "Records created successfully\n"
          ],
          "name": "stdout"
        }
      ]
    },
    {
      "cell_type": "code",
      "metadata": {
        "id": "xamKTk47XOE3",
        "colab_type": "code",
        "outputId": "89ec205e-26aa-4dab-b2f1-d5cd4822a6c5",
        "colab": {
          "base_uri": "https://localhost:8080/",
          "height": 391
        }
      },
      "source": [
        "#SELECT Operation\n",
        "#!/usr/bin/python\n",
        "\n",
        "import sqlite3\n",
        "\n",
        "conn = sqlite3.connect('test.db')\n",
        "print(\"Opened database successfully\");\n",
        "\n",
        "cursor = conn.execute(\"SELECT id, name,address, salary from COMPANY1\")\n",
        "for row in cursor:\n",
        "   print(\"ID = \", row[0])\n",
        "   print(\"NAME = \", row[1])\n",
        "   print(\"ADDRESS = \", row[2])\n",
        "   print(\"SALARY = \", row[3], \"\\n\")\n",
        "\n",
        "print(\"Operation done successfully\");\n",
        "conn.close()"
      ],
      "execution_count": 0,
      "outputs": [
        {
          "output_type": "stream",
          "text": [
            "Opened database successfully\n",
            "ID =  1\n",
            "NAME =  Paul\n",
            "ADDRESS =  California\n",
            "SALARY =  20000.0 \n",
            "\n",
            "ID =  2\n",
            "NAME =  Allen\n",
            "ADDRESS =  Texas\n",
            "SALARY =  15000.0 \n",
            "\n",
            "ID =  3\n",
            "NAME =  Teddy\n",
            "ADDRESS =  Norway\n",
            "SALARY =  20000.0 \n",
            "\n",
            "ID =  4\n",
            "NAME =  Mark\n",
            "ADDRESS =  Rich-Mond \n",
            "SALARY =  65000.0 \n",
            "\n",
            "Operation done successfully\n"
          ],
          "name": "stdout"
        }
      ]
    },
    {
      "cell_type": "code",
      "metadata": {
        "id": "ljUHDYhEZWjN",
        "colab_type": "code",
        "outputId": "687f1f58-f318-4afc-9d26-1249d31755b0",
        "colab": {
          "base_uri": "https://localhost:8080/",
          "height": 408
        }
      },
      "source": [
        "#UPDATE Operation\n",
        "#!/usr/bin/python\n",
        "\n",
        "import sqlite3\n",
        "\n",
        "conn = sqlite3.connect('test.db')\n",
        "print(\"Opened database successfully\");\n",
        "\n",
        "conn.execute(\"UPDATE COMPANY1 set SALARY = 60000.00 where ID = 1\")\n",
        "conn.commit()\n",
        "print(\"Total number of rows updated :\", conn.total_changes)\n",
        "\n",
        "cursor = conn.execute(\"SELECT id, name, address, salary from COMPANY1\")\n",
        "for row in cursor:\n",
        "   print(\"ID = \", row[0])\n",
        "   print (\"NAME = \", row[1])\n",
        "   print (\"ADDRESS = \", row[2])\n",
        "   print (\"SALARY = \", row[3], \"\\n\")\n",
        "\n",
        "print (\"Operation done successfully\");\n",
        "conn.close()"
      ],
      "execution_count": 0,
      "outputs": [
        {
          "output_type": "stream",
          "text": [
            "Opened database successfully\n",
            "Total number of rows updated : 1\n",
            "ID =  1\n",
            "NAME =  Paul\n",
            "ADDRESS =  California\n",
            "SALARY =  60000.0 \n",
            "\n",
            "ID =  2\n",
            "NAME =  Allen\n",
            "ADDRESS =  Texas\n",
            "SALARY =  15000.0 \n",
            "\n",
            "ID =  3\n",
            "NAME =  Teddy\n",
            "ADDRESS =  Norway\n",
            "SALARY =  20000.0 \n",
            "\n",
            "ID =  4\n",
            "NAME =  Mark\n",
            "ADDRESS =  Rich-Mond \n",
            "SALARY =  65000.0 \n",
            "\n",
            "Operation done successfully\n"
          ],
          "name": "stdout"
        }
      ]
    },
    {
      "cell_type": "code",
      "metadata": {
        "id": "wyy7h88qZ8Nr",
        "colab_type": "code",
        "outputId": "527441f7-83fa-41b2-b8aa-1e18e0334ccf",
        "colab": {
          "base_uri": "https://localhost:8080/",
          "height": 323
        }
      },
      "source": [
        "#DELETE Operation\n",
        "#!/usr/bin/python\n",
        "\n",
        "import sqlite3\n",
        "\n",
        "conn = sqlite3.connect('test.db')\n",
        "print (\"Opened database successfully\");\n",
        "\n",
        "conn.execute(\"DELETE from COMPANY1 where ID = 2;\")\n",
        "conn.commit()\n",
        "print(\"Total number of rows deleted :\", conn.total_changes)\n",
        "\n",
        "cursor = conn.execute(\"SELECT id, name, address, salary from COMPANY1\")\n",
        "for row in cursor:\n",
        "   print (\"ID = \", row[0])\n",
        "   print (\"NAME = \", row[1])\n",
        "   print (\"ADDRESS = \", row[2])\n",
        "   print (\"SALARY = \", row[3], \"\\n\")\n",
        "\n",
        "print (\"Operation done successfully\");\n",
        "conn.close()"
      ],
      "execution_count": 0,
      "outputs": [
        {
          "output_type": "stream",
          "text": [
            "Opened database successfully\n",
            "Total number of rows deleted : 1\n",
            "ID =  1\n",
            "NAME =  Paul\n",
            "ADDRESS =  California\n",
            "SALARY =  60000.0 \n",
            "\n",
            "ID =  3\n",
            "NAME =  Teddy\n",
            "ADDRESS =  Norway\n",
            "SALARY =  20000.0 \n",
            "\n",
            "ID =  4\n",
            "NAME =  Mark\n",
            "ADDRESS =  Rich-Mond \n",
            "SALARY =  65000.0 \n",
            "\n",
            "Operation done successfully\n"
          ],
          "name": "stdout"
        }
      ]
    }
  ]
}